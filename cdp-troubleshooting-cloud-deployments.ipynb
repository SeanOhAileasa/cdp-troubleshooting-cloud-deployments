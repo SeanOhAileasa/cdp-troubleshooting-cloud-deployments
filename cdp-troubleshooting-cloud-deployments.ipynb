{
 "cells": [
  {
   "cell_type": "markdown",
   "id": "d4ee9e4b",
   "metadata": {},
   "source": [
    "***\n",
    "< [Home](https://github.com/SeanOhAileasa) | [README](https://github.com/SeanOhAileasa/cdp-troubleshooting-cloud-deployments/blob/main/README.md) >\n",
    "\n",
    "## CompTIA Cloud+ - Course Material 2022\n",
    "###### Topic: ``Troubleshooting Cloud Deployments``\n",
    "***"
   ]
  },
  {
   "cell_type": "markdown",
   "id": "e7228f57",
   "metadata": {},
   "source": [
    "<a id=\"top\"></a>\n",
    "***\n",
    "## Table of Contents\n",
    "***"
   ]
  },
  {
   "cell_type": "markdown",
   "id": "c2bb5e7b",
   "metadata": {},
   "source": [
    "### [Troubleshooting Cloud Deployments](#aa) <br/><br/>\n",
    "<hr width=50%;>"
   ]
  },
  {
   "cell_type": "markdown",
   "id": "fa83f150",
   "metadata": {},
   "source": [
    "### [Deployment Connectivity Issues](#A) <br/><br/>\n",
    "<hr width=50%;>"
   ]
  },
  {
   "cell_type": "markdown",
   "id": "42d1801e",
   "metadata": {},
   "source": [
    "### [Deployment Performance Issues](#B) <br/><br/>\n",
    "<hr width=50%;>"
   ]
  },
  {
   "cell_type": "markdown",
   "id": "d9c45365",
   "metadata": {},
   "source": [
    "### [Deployment Configuration Issues](#C) <br/><br/>\n",
    "<hr width=50%;>"
   ]
  },
  {
   "cell_type": "markdown",
   "id": "a5efd87c",
   "metadata": {},
   "source": [
    "### [Deployment Issues with Applications in Containers](#D) <br/><br/>\n",
    "<hr width=50%;>"
   ]
  },
  {
   "cell_type": "markdown",
   "id": "42f95d87",
   "metadata": {},
   "source": [
    "### [Misconfigured Template Deployment Issues](#E) <br/><br/>\n",
    "<hr width=50%;>"
   ]
  },
  {
   "cell_type": "markdown",
   "id": "35f228be",
   "metadata": {},
   "source": [
    "### [Tag Deployment Issues](#F) <br/><br/>\n",
    "<hr width=50%;>"
   ]
  },
  {
   "cell_type": "markdown",
   "id": "ff62dbcd",
   "metadata": {},
   "source": [
    "### [Capacity Deployment Issues](#G) <br/><br/>\n",
    "<hr width=50%;>"
   ]
  },
  {
   "cell_type": "markdown",
   "id": "97ffe6ad",
   "metadata": {},
   "source": [
    "### [Licensing Deployment Issues](#H) <br/><br/>\n",
    "<hr width=50%;>"
   ]
  },
  {
   "cell_type": "markdown",
   "id": "b838e338",
   "metadata": {},
   "source": [
    "### [Vendor-related Deployment Issues](#I) <br/><br/>\n",
    "<hr width=50%;>"
   ]
  },
  {
   "cell_type": "markdown",
   "id": "6f1d1254",
   "metadata": {},
   "source": [
    "### [Performing Template-based Deployments in the Cloud](#J) <br/><br/>\n",
    "<hr width=50%;>"
   ]
  },
  {
   "cell_type": "markdown",
   "id": "5bc5aac1",
   "metadata": {},
   "source": [
    "### [Course Summary](#K) <br/><br/>\n",
    "<hr width=50%;>"
   ]
  },
  {
   "cell_type": "markdown",
   "id": "bf2b95e2",
   "metadata": {},
   "source": [
    "***\n",
    "## END"
   ]
  },
  {
   "cell_type": "markdown",
   "id": "34aa6eb5",
   "metadata": {},
   "source": [
    "< [Table of Contents](#top) | [References](#references) >\n",
    "<a id=\"aa\"></a>\n",
    "***\n",
    "### Troubleshooting Cloud Deployments\n",
    "***"
   ]
  },
  {
   "cell_type": "markdown",
   "id": "fc455d59",
   "metadata": {},
   "source": []
  },
  {
   "cell_type": "markdown",
   "id": "e78caab3",
   "metadata": {},
   "source": [
    "< [Table of Contents](#top) | [References](#references) >\n",
    "<a id=\"A\"></a>\n",
    "***\n",
    "### Deployment Connectivity Issues\n",
    "*** "
   ]
  },
  {
   "cell_type": "markdown",
   "id": "a811a4ae",
   "metadata": {},
   "source": []
  },
  {
   "cell_type": "markdown",
   "id": "e9a251c6",
   "metadata": {},
   "source": [
    "< [Table of Contents](#top) | [References](#references) >\n",
    "<a id=\"B\"></a>\n",
    "***\n",
    "### Deployment Performance Issues\n",
    "*** "
   ]
  },
  {
   "cell_type": "markdown",
   "id": "4b99f867",
   "metadata": {},
   "source": []
  },
  {
   "cell_type": "markdown",
   "id": "322e44a8",
   "metadata": {},
   "source": [
    "< [Table of Contents](#top) | [References](#references) >\n",
    "<a id=\"C\"></a>\n",
    "***\n",
    "### Deployment Configuration Issues\n",
    "*** "
   ]
  },
  {
   "cell_type": "markdown",
   "id": "8e79e39e",
   "metadata": {},
   "source": []
  },
  {
   "cell_type": "markdown",
   "id": "59ff265f",
   "metadata": {},
   "source": [
    "< [Table of Contents](#top) | [References](#references) >\n",
    "<a id=\"D\"></a>\n",
    "***\n",
    "### Deployment Issues with Applications in Containers\n",
    "*** "
   ]
  },
  {
   "cell_type": "markdown",
   "id": "169910d5",
   "metadata": {},
   "source": []
  },
  {
   "cell_type": "markdown",
   "id": "af1d2835",
   "metadata": {},
   "source": [
    "< [Table of Contents](#top) | [References](#references) >\n",
    "<a id=\"E\"></a>\n",
    "***\n",
    "### Misconfigured Template Deployment Issues\n",
    "*** "
   ]
  },
  {
   "cell_type": "markdown",
   "id": "16c0684a",
   "metadata": {},
   "source": []
  },
  {
   "cell_type": "markdown",
   "id": "b91634ee",
   "metadata": {},
   "source": [
    "< [Table of Contents](#top) | [References](#references) >\n",
    "<a id=\"F\"></a>\n",
    "***\n",
    "### Tag Deployment Issues\n",
    "*** "
   ]
  },
  {
   "cell_type": "markdown",
   "id": "5006e570",
   "metadata": {},
   "source": []
  },
  {
   "cell_type": "markdown",
   "id": "ca08906d",
   "metadata": {},
   "source": [
    "< [Table of Contents](#top) | [References](#references) >\n",
    "<a id=\"G\"></a>\n",
    "***\n",
    "### Capacity Deployment Issues\n",
    "*** "
   ]
  },
  {
   "cell_type": "markdown",
   "id": "f73de505",
   "metadata": {},
   "source": []
  },
  {
   "cell_type": "markdown",
   "id": "08186bb4",
   "metadata": {},
   "source": [
    "< [Table of Contents](#top) | [References](#references) >\n",
    "<a id=\"H\"></a>\n",
    "***\n",
    "### Licensing Deployment Issues\n",
    "*** "
   ]
  },
  {
   "cell_type": "markdown",
   "id": "237ce9b1",
   "metadata": {},
   "source": []
  },
  {
   "cell_type": "markdown",
   "id": "98e7271b",
   "metadata": {},
   "source": [
    "< [Table of Contents](#top) | [References](#references) >\n",
    "<a id=\"I\"></a>\n",
    "***\n",
    "### Vendor-related Deployment Issues\n",
    "*** "
   ]
  },
  {
   "cell_type": "markdown",
   "id": "a0efd345",
   "metadata": {},
   "source": []
  },
  {
   "cell_type": "markdown",
   "id": "060ad164",
   "metadata": {},
   "source": [
    "< [Table of Contents](#top) | [References](#references) >\n",
    "<a id=\"J\"></a>\n",
    "***\n",
    "### Performing Template-based Deployments in the Cloud\n",
    "*** "
   ]
  },
  {
   "cell_type": "markdown",
   "id": "0f6689dc",
   "metadata": {},
   "source": []
  },
  {
   "cell_type": "markdown",
   "id": "173e78b5",
   "metadata": {},
   "source": [
    "< [Table of Contents](#top) | [References](#references) >\n",
    "<a id=\"K\"></a>\n",
    "***\n",
    "### Course Summary\n",
    "*** "
   ]
  },
  {
   "cell_type": "markdown",
   "id": "a2f1856a",
   "metadata": {},
   "source": []
  },
  {
   "cell_type": "markdown",
   "id": "2cc20932",
   "metadata": {},
   "source": [
    "***\n",
    "## END"
   ]
  },
  {
   "cell_type": "markdown",
   "id": "e0e42d51",
   "metadata": {},
   "source": [
    "< [Table of Contents](#top) >\n",
    "<a id=\"references\"></a>\n",
    "***\n",
    "## References\n",
    "***"
   ]
  },
  {
   "cell_type": "markdown",
   "id": "757bf6de",
   "metadata": {},
   "source": [
    "&nbsp;&nbsp;&nbsp;&nbsp;&nbsp;&nbsp;&nbsp;&nbsp;&nbsp;skillsoft, \"Troubleshooting Cloud Deployments,\" [skillsoft.com](https://web.archive.org/web/20220403100053/https://www.skillsoft.com/), n.d.."
   ]
  },
  {
   "cell_type": "markdown",
   "id": "b33c372a",
   "metadata": {},
   "source": [
    "***\n",
    "## END"
   ]
  },
  {
   "cell_type": "markdown",
   "id": "e5961b4d",
   "metadata": {},
   "source": [
    "< [Table of Contents](#top) | [References](#references) >\n",
    "<a id=\"appendix\"></a>\n",
    "***\n",
    "## Appendix\n",
    "***"
   ]
  },
  {
   "cell_type": "markdown",
   "id": "00d82a82",
   "metadata": {},
   "source": [
    "***\n",
    "## END"
   ]
  },
  {
   "cell_type": "code",
   "execution_count": 1,
   "id": "706756a2",
   "metadata": {},
   "outputs": [
    {
     "name": "stderr",
     "output_type": "stream",
     "text": [
      "C:\\Users\\SeanOhAileasa\\AppData\\Local\\Temp\\ipykernel_12844\\1322614208.py:1: DeprecationWarning: Importing display from IPython.core.display is deprecated since IPython 7.14, please import from IPython display\n",
      "  from IPython.core.display import display,HTML\n"
     ]
    },
    {
     "data": {
      "text/html": [
       "<style>.container { width:100% !important; }</style>"
      ],
      "text/plain": [
       "<IPython.core.display.HTML object>"
      ]
     },
     "metadata": {},
     "output_type": "display_data"
    }
   ],
   "source": [
    "from IPython.core.display import display,HTML\n",
    "display(HTML(\"<style>.container { width:100% !important; }</style>\"))"
   ]
  },
  {
   "cell_type": "markdown",
   "id": "899c1783",
   "metadata": {},
   "source": [
    "# END JUPYTER NOTEBOOK"
   ]
  }
 ],
 "metadata": {
  "kernelspec": {
   "display_name": "Python 3 (ipykernel)",
   "language": "python",
   "name": "python3"
  },
  "language_info": {
   "codemirror_mode": {
    "name": "ipython",
    "version": 3
   },
   "file_extension": ".py",
   "mimetype": "text/x-python",
   "name": "python",
   "nbconvert_exporter": "python",
   "pygments_lexer": "ipython3",
   "version": "3.9.12"
  }
 },
 "nbformat": 4,
 "nbformat_minor": 5
}
